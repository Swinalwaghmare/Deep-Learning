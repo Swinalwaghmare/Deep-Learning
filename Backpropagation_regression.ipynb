{
  "nbformat": 4,
  "nbformat_minor": 0,
  "metadata": {
    "colab": {
      "provenance": [],
      "authorship_tag": "ABX9TyPrmlM7yXth7M4mlvjRV+d7",
      "include_colab_link": true
    },
    "kernelspec": {
      "name": "python3",
      "display_name": "Python 3"
    },
    "language_info": {
      "name": "python"
    }
  },
  "cells": [
    {
      "cell_type": "markdown",
      "metadata": {
        "id": "view-in-github",
        "colab_type": "text"
      },
      "source": [
        "<a href=\"https://colab.research.google.com/github/Swinalwaghmare/Deep-Learning/blob/main/Backpropagation_regression.ipynb\" target=\"_parent\"><img src=\"https://colab.research.google.com/assets/colab-badge.svg\" alt=\"Open In Colab\"/></a>"
      ]
    },
    {
      "cell_type": "code",
      "execution_count": null,
      "metadata": {
        "id": "HzNf2IKIxGOT"
      },
      "outputs": [],
      "source": [
        "import numpy as np\n",
        "import pandas as pd"
      ]
    },
    {
      "cell_type": "code",
      "source": [
        "df = pd.DataFrame([[8,8,4],[7,9,5],[6,10,6],[5,12,7]],columns=['cgpa', 'profile_score', 'lpa'])"
      ],
      "metadata": {
        "id": "g8nYlcEtxP0d"
      },
      "execution_count": null,
      "outputs": []
    },
    {
      "cell_type": "code",
      "source": [
        "df"
      ],
      "metadata": {
        "colab": {
          "base_uri": "https://localhost:8080/",
          "height": 175
        },
        "id": "Sl_daSR6xn5v",
        "outputId": "8cd6dd5d-d8f3-41e7-80ba-96a16e37662a"
      },
      "execution_count": null,
      "outputs": [
        {
          "output_type": "execute_result",
          "data": {
            "text/plain": [
              "   cgpa  profile_score  lpa\n",
              "0     8              8    4\n",
              "1     7              9    5\n",
              "2     6             10    6\n",
              "3     5             12    7"
            ],
            "text/html": [
              "\n",
              "  <div id=\"df-1002a917-545a-4eb4-bd46-167b1157913e\" class=\"colab-df-container\">\n",
              "    <div>\n",
              "<style scoped>\n",
              "    .dataframe tbody tr th:only-of-type {\n",
              "        vertical-align: middle;\n",
              "    }\n",
              "\n",
              "    .dataframe tbody tr th {\n",
              "        vertical-align: top;\n",
              "    }\n",
              "\n",
              "    .dataframe thead th {\n",
              "        text-align: right;\n",
              "    }\n",
              "</style>\n",
              "<table border=\"1\" class=\"dataframe\">\n",
              "  <thead>\n",
              "    <tr style=\"text-align: right;\">\n",
              "      <th></th>\n",
              "      <th>cgpa</th>\n",
              "      <th>profile_score</th>\n",
              "      <th>lpa</th>\n",
              "    </tr>\n",
              "  </thead>\n",
              "  <tbody>\n",
              "    <tr>\n",
              "      <th>0</th>\n",
              "      <td>8</td>\n",
              "      <td>8</td>\n",
              "      <td>4</td>\n",
              "    </tr>\n",
              "    <tr>\n",
              "      <th>1</th>\n",
              "      <td>7</td>\n",
              "      <td>9</td>\n",
              "      <td>5</td>\n",
              "    </tr>\n",
              "    <tr>\n",
              "      <th>2</th>\n",
              "      <td>6</td>\n",
              "      <td>10</td>\n",
              "      <td>6</td>\n",
              "    </tr>\n",
              "    <tr>\n",
              "      <th>3</th>\n",
              "      <td>5</td>\n",
              "      <td>12</td>\n",
              "      <td>7</td>\n",
              "    </tr>\n",
              "  </tbody>\n",
              "</table>\n",
              "</div>\n",
              "    <div class=\"colab-df-buttons\">\n",
              "\n",
              "  <div class=\"colab-df-container\">\n",
              "    <button class=\"colab-df-convert\" onclick=\"convertToInteractive('df-1002a917-545a-4eb4-bd46-167b1157913e')\"\n",
              "            title=\"Convert this dataframe to an interactive table.\"\n",
              "            style=\"display:none;\">\n",
              "\n",
              "  <svg xmlns=\"http://www.w3.org/2000/svg\" height=\"24px\" viewBox=\"0 -960 960 960\">\n",
              "    <path d=\"M120-120v-720h720v720H120Zm60-500h600v-160H180v160Zm220 220h160v-160H400v160Zm0 220h160v-160H400v160ZM180-400h160v-160H180v160Zm440 0h160v-160H620v160ZM180-180h160v-160H180v160Zm440 0h160v-160H620v160Z\"/>\n",
              "  </svg>\n",
              "    </button>\n",
              "\n",
              "  <style>\n",
              "    .colab-df-container {\n",
              "      display:flex;\n",
              "      gap: 12px;\n",
              "    }\n",
              "\n",
              "    .colab-df-convert {\n",
              "      background-color: #E8F0FE;\n",
              "      border: none;\n",
              "      border-radius: 50%;\n",
              "      cursor: pointer;\n",
              "      display: none;\n",
              "      fill: #1967D2;\n",
              "      height: 32px;\n",
              "      padding: 0 0 0 0;\n",
              "      width: 32px;\n",
              "    }\n",
              "\n",
              "    .colab-df-convert:hover {\n",
              "      background-color: #E2EBFA;\n",
              "      box-shadow: 0px 1px 2px rgba(60, 64, 67, 0.3), 0px 1px 3px 1px rgba(60, 64, 67, 0.15);\n",
              "      fill: #174EA6;\n",
              "    }\n",
              "\n",
              "    .colab-df-buttons div {\n",
              "      margin-bottom: 4px;\n",
              "    }\n",
              "\n",
              "    [theme=dark] .colab-df-convert {\n",
              "      background-color: #3B4455;\n",
              "      fill: #D2E3FC;\n",
              "    }\n",
              "\n",
              "    [theme=dark] .colab-df-convert:hover {\n",
              "      background-color: #434B5C;\n",
              "      box-shadow: 0px 1px 3px 1px rgba(0, 0, 0, 0.15);\n",
              "      filter: drop-shadow(0px 1px 2px rgba(0, 0, 0, 0.3));\n",
              "      fill: #FFFFFF;\n",
              "    }\n",
              "  </style>\n",
              "\n",
              "    <script>\n",
              "      const buttonEl =\n",
              "        document.querySelector('#df-1002a917-545a-4eb4-bd46-167b1157913e button.colab-df-convert');\n",
              "      buttonEl.style.display =\n",
              "        google.colab.kernel.accessAllowed ? 'block' : 'none';\n",
              "\n",
              "      async function convertToInteractive(key) {\n",
              "        const element = document.querySelector('#df-1002a917-545a-4eb4-bd46-167b1157913e');\n",
              "        const dataTable =\n",
              "          await google.colab.kernel.invokeFunction('convertToInteractive',\n",
              "                                                    [key], {});\n",
              "        if (!dataTable) return;\n",
              "\n",
              "        const docLinkHtml = 'Like what you see? Visit the ' +\n",
              "          '<a target=\"_blank\" href=https://colab.research.google.com/notebooks/data_table.ipynb>data table notebook</a>'\n",
              "          + ' to learn more about interactive tables.';\n",
              "        element.innerHTML = '';\n",
              "        dataTable['output_type'] = 'display_data';\n",
              "        await google.colab.output.renderOutput(dataTable, element);\n",
              "        const docLink = document.createElement('div');\n",
              "        docLink.innerHTML = docLinkHtml;\n",
              "        element.appendChild(docLink);\n",
              "      }\n",
              "    </script>\n",
              "  </div>\n",
              "\n",
              "\n",
              "<div id=\"df-70002952-23f1-49bf-b873-349445b2f745\">\n",
              "  <button class=\"colab-df-quickchart\" onclick=\"quickchart('df-70002952-23f1-49bf-b873-349445b2f745')\"\n",
              "            title=\"Suggest charts\"\n",
              "            style=\"display:none;\">\n",
              "\n",
              "<svg xmlns=\"http://www.w3.org/2000/svg\" height=\"24px\"viewBox=\"0 0 24 24\"\n",
              "     width=\"24px\">\n",
              "    <g>\n",
              "        <path d=\"M19 3H5c-1.1 0-2 .9-2 2v14c0 1.1.9 2 2 2h14c1.1 0 2-.9 2-2V5c0-1.1-.9-2-2-2zM9 17H7v-7h2v7zm4 0h-2V7h2v10zm4 0h-2v-4h2v4z\"/>\n",
              "    </g>\n",
              "</svg>\n",
              "  </button>\n",
              "\n",
              "<style>\n",
              "  .colab-df-quickchart {\n",
              "      --bg-color: #E8F0FE;\n",
              "      --fill-color: #1967D2;\n",
              "      --hover-bg-color: #E2EBFA;\n",
              "      --hover-fill-color: #174EA6;\n",
              "      --disabled-fill-color: #AAA;\n",
              "      --disabled-bg-color: #DDD;\n",
              "  }\n",
              "\n",
              "  [theme=dark] .colab-df-quickchart {\n",
              "      --bg-color: #3B4455;\n",
              "      --fill-color: #D2E3FC;\n",
              "      --hover-bg-color: #434B5C;\n",
              "      --hover-fill-color: #FFFFFF;\n",
              "      --disabled-bg-color: #3B4455;\n",
              "      --disabled-fill-color: #666;\n",
              "  }\n",
              "\n",
              "  .colab-df-quickchart {\n",
              "    background-color: var(--bg-color);\n",
              "    border: none;\n",
              "    border-radius: 50%;\n",
              "    cursor: pointer;\n",
              "    display: none;\n",
              "    fill: var(--fill-color);\n",
              "    height: 32px;\n",
              "    padding: 0;\n",
              "    width: 32px;\n",
              "  }\n",
              "\n",
              "  .colab-df-quickchart:hover {\n",
              "    background-color: var(--hover-bg-color);\n",
              "    box-shadow: 0 1px 2px rgba(60, 64, 67, 0.3), 0 1px 3px 1px rgba(60, 64, 67, 0.15);\n",
              "    fill: var(--button-hover-fill-color);\n",
              "  }\n",
              "\n",
              "  .colab-df-quickchart-complete:disabled,\n",
              "  .colab-df-quickchart-complete:disabled:hover {\n",
              "    background-color: var(--disabled-bg-color);\n",
              "    fill: var(--disabled-fill-color);\n",
              "    box-shadow: none;\n",
              "  }\n",
              "\n",
              "  .colab-df-spinner {\n",
              "    border: 2px solid var(--fill-color);\n",
              "    border-color: transparent;\n",
              "    border-bottom-color: var(--fill-color);\n",
              "    animation:\n",
              "      spin 1s steps(1) infinite;\n",
              "  }\n",
              "\n",
              "  @keyframes spin {\n",
              "    0% {\n",
              "      border-color: transparent;\n",
              "      border-bottom-color: var(--fill-color);\n",
              "      border-left-color: var(--fill-color);\n",
              "    }\n",
              "    20% {\n",
              "      border-color: transparent;\n",
              "      border-left-color: var(--fill-color);\n",
              "      border-top-color: var(--fill-color);\n",
              "    }\n",
              "    30% {\n",
              "      border-color: transparent;\n",
              "      border-left-color: var(--fill-color);\n",
              "      border-top-color: var(--fill-color);\n",
              "      border-right-color: var(--fill-color);\n",
              "    }\n",
              "    40% {\n",
              "      border-color: transparent;\n",
              "      border-right-color: var(--fill-color);\n",
              "      border-top-color: var(--fill-color);\n",
              "    }\n",
              "    60% {\n",
              "      border-color: transparent;\n",
              "      border-right-color: var(--fill-color);\n",
              "    }\n",
              "    80% {\n",
              "      border-color: transparent;\n",
              "      border-right-color: var(--fill-color);\n",
              "      border-bottom-color: var(--fill-color);\n",
              "    }\n",
              "    90% {\n",
              "      border-color: transparent;\n",
              "      border-bottom-color: var(--fill-color);\n",
              "    }\n",
              "  }\n",
              "</style>\n",
              "\n",
              "  <script>\n",
              "    async function quickchart(key) {\n",
              "      const quickchartButtonEl =\n",
              "        document.querySelector('#' + key + ' button');\n",
              "      quickchartButtonEl.disabled = true;  // To prevent multiple clicks.\n",
              "      quickchartButtonEl.classList.add('colab-df-spinner');\n",
              "      try {\n",
              "        const charts = await google.colab.kernel.invokeFunction(\n",
              "            'suggestCharts', [key], {});\n",
              "      } catch (error) {\n",
              "        console.error('Error during call to suggestCharts:', error);\n",
              "      }\n",
              "      quickchartButtonEl.classList.remove('colab-df-spinner');\n",
              "      quickchartButtonEl.classList.add('colab-df-quickchart-complete');\n",
              "    }\n",
              "    (() => {\n",
              "      let quickchartButtonEl =\n",
              "        document.querySelector('#df-70002952-23f1-49bf-b873-349445b2f745 button');\n",
              "      quickchartButtonEl.style.display =\n",
              "        google.colab.kernel.accessAllowed ? 'block' : 'none';\n",
              "    })();\n",
              "  </script>\n",
              "</div>\n",
              "\n",
              "  <div id=\"id_e002270b-658d-4a82-abfb-4ebc721a673c\">\n",
              "    <style>\n",
              "      .colab-df-generate {\n",
              "        background-color: #E8F0FE;\n",
              "        border: none;\n",
              "        border-radius: 50%;\n",
              "        cursor: pointer;\n",
              "        display: none;\n",
              "        fill: #1967D2;\n",
              "        height: 32px;\n",
              "        padding: 0 0 0 0;\n",
              "        width: 32px;\n",
              "      }\n",
              "\n",
              "      .colab-df-generate:hover {\n",
              "        background-color: #E2EBFA;\n",
              "        box-shadow: 0px 1px 2px rgba(60, 64, 67, 0.3), 0px 1px 3px 1px rgba(60, 64, 67, 0.15);\n",
              "        fill: #174EA6;\n",
              "      }\n",
              "\n",
              "      [theme=dark] .colab-df-generate {\n",
              "        background-color: #3B4455;\n",
              "        fill: #D2E3FC;\n",
              "      }\n",
              "\n",
              "      [theme=dark] .colab-df-generate:hover {\n",
              "        background-color: #434B5C;\n",
              "        box-shadow: 0px 1px 3px 1px rgba(0, 0, 0, 0.15);\n",
              "        filter: drop-shadow(0px 1px 2px rgba(0, 0, 0, 0.3));\n",
              "        fill: #FFFFFF;\n",
              "      }\n",
              "    </style>\n",
              "    <button class=\"colab-df-generate\" onclick=\"generateWithVariable('df')\"\n",
              "            title=\"Generate code using this dataframe.\"\n",
              "            style=\"display:none;\">\n",
              "\n",
              "  <svg xmlns=\"http://www.w3.org/2000/svg\" height=\"24px\"viewBox=\"0 0 24 24\"\n",
              "       width=\"24px\">\n",
              "    <path d=\"M7,19H8.4L18.45,9,17,7.55,7,17.6ZM5,21V16.75L18.45,3.32a2,2,0,0,1,2.83,0l1.4,1.43a1.91,1.91,0,0,1,.58,1.4,1.91,1.91,0,0,1-.58,1.4L9.25,21ZM18.45,9,17,7.55Zm-12,3A5.31,5.31,0,0,0,4.9,8.1,5.31,5.31,0,0,0,1,6.5,5.31,5.31,0,0,0,4.9,4.9,5.31,5.31,0,0,0,6.5,1,5.31,5.31,0,0,0,8.1,4.9,5.31,5.31,0,0,0,12,6.5,5.46,5.46,0,0,0,6.5,12Z\"/>\n",
              "  </svg>\n",
              "    </button>\n",
              "    <script>\n",
              "      (() => {\n",
              "      const buttonEl =\n",
              "        document.querySelector('#id_e002270b-658d-4a82-abfb-4ebc721a673c button.colab-df-generate');\n",
              "      buttonEl.style.display =\n",
              "        google.colab.kernel.accessAllowed ? 'block' : 'none';\n",
              "\n",
              "      buttonEl.onclick = () => {\n",
              "        google.colab.notebook.generateWithVariable('df');\n",
              "      }\n",
              "      })();\n",
              "    </script>\n",
              "  </div>\n",
              "\n",
              "    </div>\n",
              "  </div>\n"
            ]
          },
          "metadata": {},
          "execution_count": 39
        }
      ]
    },
    {
      "cell_type": "markdown",
      "source": [
        "### Code from scratch"
      ],
      "metadata": {
        "id": "v5EVbQ4VFTxd"
      }
    },
    {
      "cell_type": "code",
      "source": [
        "def initialize_parameters(layer_dims):\n",
        "\n",
        "  np.random.seed(3)\n",
        "  parameters = {}\n",
        "  L = len(layer_dims)\n",
        "\n",
        "  for l in range(1, L):\n",
        "\n",
        "    parameters['W' + str(l)] = np.ones((layer_dims[l-1], layer_dims[l]))*0.1\n",
        "    parameters['b' + str(l)] = np.zeros((layer_dims[l], 1))\n",
        "\n",
        "  return parameters"
      ],
      "metadata": {
        "id": "vpa_hKNExtFi"
      },
      "execution_count": null,
      "outputs": []
    },
    {
      "cell_type": "code",
      "source": [
        "initialize_parameters([2,2,1])"
      ],
      "metadata": {
        "colab": {
          "base_uri": "https://localhost:8080/"
        },
        "id": "FBA1zl9WzNkd",
        "outputId": "e8aa2ac2-7811-43c8-9f57-d94bde95cd6e"
      },
      "execution_count": null,
      "outputs": [
        {
          "output_type": "execute_result",
          "data": {
            "text/plain": [
              "{'W1': array([[0.1, 0.1],\n",
              "        [0.1, 0.1]]),\n",
              " 'b1': array([[0.],\n",
              "        [0.]]),\n",
              " 'W2': array([[0.1],\n",
              "        [0.1]]),\n",
              " 'b2': array([[0.]])}"
            ]
          },
          "metadata": {},
          "execution_count": 41
        }
      ]
    },
    {
      "cell_type": "code",
      "source": [
        "def linear_forward(A_prev, W, b):\n",
        "\n",
        "  Z = np.dot(W.T, A_prev) + b\n",
        "\n",
        "  return Z"
      ],
      "metadata": {
        "id": "FPi2nj3qz1ck"
      },
      "execution_count": null,
      "outputs": []
    },
    {
      "cell_type": "code",
      "source": [
        "# forward propagation\n",
        "def L_layer_forward(X, parameters):\n",
        "\n",
        "  A = X\n",
        "  L = len(parameters) // 2\n",
        "\n",
        "  for l in range(1, L+1):\n",
        "    A_prev = A\n",
        "    Wl = parameters['W' + str(l)]\n",
        "    bl = parameters['b' + str(l)]\n",
        "\n",
        "    #print(\"A\" + str(l-1)+ \":\", A_prev)\n",
        "    #print(\"W\" + str(l)+ \":\", Wl)\n",
        "    #print(\"b\" + str(l)+ \":\", bl)\n",
        "    #print(\"--\"*20)\n",
        "\n",
        "    A = linear_forward(A_prev, Wl, bl)\n",
        "    #print(\"A\"+ str(l) + \":\", A)\n",
        "    #print(\"**\"*20)\n",
        "\n",
        "  return A, A_prev\n",
        "\n",
        "\n"
      ],
      "metadata": {
        "id": "25XuF4mp1InN"
      },
      "execution_count": null,
      "outputs": []
    },
    {
      "cell_type": "code",
      "source": [
        "X = df[['cgpa', 'profile_score']].values[0].reshape(2,1) # shape(No of feature, no. of training example)\n",
        "y = df[['lpa']].values[0][0]\n",
        "\n",
        "parameters = initialize_parameters([2,2,1])\n",
        "\n",
        "y_hat, A1  = L_layer_forward(X, parameters)"
      ],
      "metadata": {
        "colab": {
          "base_uri": "https://localhost:8080/"
        },
        "id": "kqhqUh3925NV",
        "outputId": "a78ca4db-ab11-4d0b-aa1e-30ef62f6bf73"
      },
      "execution_count": null,
      "outputs": [
        {
          "output_type": "stream",
          "name": "stdout",
          "text": [
            "A0: [[8]\n",
            " [8]]\n",
            "W1: [[0.1 0.1]\n",
            " [0.1 0.1]]\n",
            "b1: [[0.]\n",
            " [0.]]\n",
            "----------------------------------------\n",
            "A1: [[1.6]\n",
            " [1.6]]\n",
            "****************************************\n",
            "A1: [[1.6]\n",
            " [1.6]]\n",
            "W2: [[0.1]\n",
            " [0.1]]\n",
            "b2: [[0.]]\n",
            "----------------------------------------\n",
            "A2: [[0.32]]\n",
            "****************************************\n"
          ]
        }
      ]
    },
    {
      "cell_type": "code",
      "source": [
        "y_hat = y_hat[0][0]\n",
        "y_hat"
      ],
      "metadata": {
        "colab": {
          "base_uri": "https://localhost:8080/"
        },
        "id": "gpDYS1Cs5B8s",
        "outputId": "a603ab96-864c-414f-921b-e1fd557dbec4"
      },
      "execution_count": null,
      "outputs": [
        {
          "output_type": "execute_result",
          "data": {
            "text/plain": [
              "0.32000000000000006"
            ]
          },
          "metadata": {},
          "execution_count": 51
        }
      ]
    },
    {
      "cell_type": "code",
      "source": [
        "A1"
      ],
      "metadata": {
        "colab": {
          "base_uri": "https://localhost:8080/"
        },
        "id": "QQ8bHIZfANrv",
        "outputId": "f1b6273c-48b6-47ed-e150-0da72c42ab58"
      },
      "execution_count": null,
      "outputs": [
        {
          "output_type": "execute_result",
          "data": {
            "text/plain": [
              "array([[1.6],\n",
              "       [1.6]])"
            ]
          },
          "metadata": {},
          "execution_count": 54
        }
      ]
    },
    {
      "cell_type": "code",
      "source": [
        "def update_parameters(parameters, y, y_hat, A1, X):\n",
        "  parameters['W2'][0][0] = parameters['W2'][0][0] + (0.001 * 2 * (y - y_hat)* A1[0][0])\n",
        "  parameters['W2'][1][0] = parameters['W2'][1][0] + (0.001 * 2 * (y - y_hat)* A1[1][0])\n",
        "  parameters['b2'][0][0] = parameters['b2'][0][0] + (0.001 * 2 * (y - y_hat))\n",
        "\n",
        "  parameters['W1'][0][0] = parameters['W1'][0][0] + (0.001 * 2 * (y - y_hat)*parameters['W2'][0][0]*X[0][0])\n",
        "  parameters['W1'][1][0] = parameters['W1'][1][0] + (0.001 * 2 * (y - y_hat)*parameters['W2'][0][0]*X[1][0])\n",
        "  parameters['b1'][0][0] = parameters['b1'][0][0] + (0.001 * 2 * (y - y_hat)*parameters['W2'][0][0])\n",
        "\n",
        "  parameters['W1'][1][0] = parameters['W1'][1][0] + (0.001 * 2 * (y - y_hat)*parameters['W2'][1][0]*X[0][0])\n",
        "  parameters['W1'][1][1] = parameters['W1'][1][1] + (0.001 * 2 * (y - y_hat)*parameters['W2'][1][0]*X[1][0])\n",
        "  parameters['b1'][0][0] = parameters['b1'][1][0] + (0.001 * 2 * (y - y_hat)*parameters['W2'][1][0])\n",
        "\n"
      ],
      "metadata": {
        "id": "E0mC090J8U8-"
      },
      "execution_count": null,
      "outputs": []
    },
    {
      "cell_type": "code",
      "source": [
        "update_parameters(parameters, y, y_hat,A1, X)"
      ],
      "metadata": {
        "id": "dSwwoM3b_SyR"
      },
      "execution_count": null,
      "outputs": []
    },
    {
      "cell_type": "code",
      "source": [
        "parameters"
      ],
      "metadata": {
        "colab": {
          "base_uri": "https://localhost:8080/"
        },
        "id": "PDtNq5MCAxPU",
        "outputId": "02200a92-45bf-4c2c-ed2b-c77b13a534b1"
      },
      "execution_count": null,
      "outputs": [
        {
          "output_type": "execute_result",
          "data": {
            "text/plain": [
              "{'W1': array([[0.11385611, 0.1       ],\n",
              "        [0.12771223, 0.11385611]]),\n",
              " 'b1': array([[0.00090934],\n",
              "        [0.        ]]),\n",
              " 'W2': array([[0.123552],\n",
              "        [0.123552]]),\n",
              " 'b2': array([[0.01472]])}"
            ]
          },
          "metadata": {},
          "execution_count": 63
        }
      ]
    },
    {
      "cell_type": "code",
      "source": [
        "X = df[['cgpa', 'profile_score']].values[1].reshape(2,1) # shape(No of feature, no. of training example)\n",
        "y = df[['lpa']].values[1][0]\n",
        "\n",
        "\n",
        "\n",
        "y_hat, A1  = L_layer_forward(X, parameters)"
      ],
      "metadata": {
        "colab": {
          "base_uri": "https://localhost:8080/"
        },
        "id": "5KBJJxDXBJUI",
        "outputId": "344ec6cf-2191-4ce4-f11a-2a5ee073009f"
      },
      "execution_count": null,
      "outputs": [
        {
          "output_type": "stream",
          "name": "stdout",
          "text": [
            "A0: [[7]\n",
            " [9]]\n",
            "W1: [[0.11385611 0.1       ]\n",
            " [0.12771223 0.11385611]]\n",
            "b1: [[0.00090934]\n",
            " [0.        ]]\n",
            "----------------------------------------\n",
            "A1: [[1.94731216]\n",
            " [1.72470501]]\n",
            "****************************************\n",
            "A1: [[1.94731216]\n",
            " [1.72470501]]\n",
            "W2: [[0.123552]\n",
            " [0.123552]]\n",
            "b2: [[0.01472]]\n",
            "----------------------------------------\n",
            "A2: [[0.46840507]]\n",
            "****************************************\n"
          ]
        }
      ]
    },
    {
      "cell_type": "code",
      "source": [
        "update_parameters(parameters, y, y_hat,A1, X)"
      ],
      "metadata": {
        "id": "91NDlep4Bja7"
      },
      "execution_count": null,
      "outputs": []
    },
    {
      "cell_type": "code",
      "source": [
        "parameters"
      ],
      "metadata": {
        "colab": {
          "base_uri": "https://localhost:8080/"
        },
        "id": "wQClk-kpBs8d",
        "outputId": "c206d3b4-0349-4ffb-847b-0848480be12d"
      },
      "execution_count": null,
      "outputs": [
        {
          "output_type": "execute_result",
          "data": {
            "text/plain": [
              "{'W1': array([[0.12281422, 0.1       ],\n",
              "        [0.14805991, 0.12520912]]),\n",
              " 'b1': array([[0.00126144],\n",
              "        [0.        ]]),\n",
              " 'W2': array([[0.14120086],\n",
              "        [0.13918333]]),\n",
              " 'b2': array([[0.02378319]])}"
            ]
          },
          "metadata": {},
          "execution_count": 66
        }
      ]
    },
    {
      "cell_type": "code",
      "source": [
        "X = df[['cgpa', 'profile_score']].values[2].reshape(2,1) # shape(No of feature, no. of training example)\n",
        "y = df[['lpa']].values[2][0]\n",
        "\n",
        "\n",
        "\n",
        "y_hat, A1  = L_layer_forward(X, parameters)"
      ],
      "metadata": {
        "colab": {
          "base_uri": "https://localhost:8080/"
        },
        "id": "-OKgiQ1ZBuAG",
        "outputId": "cf62f3d4-5295-4ccc-973e-2fa580364e79"
      },
      "execution_count": null,
      "outputs": [
        {
          "output_type": "stream",
          "name": "stdout",
          "text": [
            "A0: [[ 6]\n",
            " [10]]\n",
            "W1: [[0.12281422 0.1       ]\n",
            " [0.14805991 0.12520912]]\n",
            "b1: [[0.00126144]\n",
            " [0.        ]]\n",
            "----------------------------------------\n",
            "A1: [[2.21874591]\n",
            " [1.85209117]]\n",
            "****************************************\n",
            "A1: [[2.21874591]\n",
            " [1.85209117]]\n",
            "W2: [[0.14120086]\n",
            " [0.13918333]]\n",
            "b2: [[0.02378319]]\n",
            "----------------------------------------\n",
            "A2: [[0.59485223]]\n",
            "****************************************\n"
          ]
        }
      ]
    },
    {
      "cell_type": "code",
      "source": [
        "update_parameters(parameters, y, y_hat,A1, X)"
      ],
      "metadata": {
        "id": "5AsRXMXBB3yg"
      },
      "execution_count": null,
      "outputs": []
    },
    {
      "cell_type": "code",
      "source": [
        "parameters"
      ],
      "metadata": {
        "colab": {
          "base_uri": "https://localhost:8080/"
        },
        "id": "QLxSt5gzB6qH",
        "outputId": "a8b039bc-ac00-4857-af02-f300b2ac5f7e"
      },
      "execution_count": null,
      "outputs": [
        {
          "output_type": "execute_result",
          "data": {
            "text/plain": [
              "{'W1': array([[0.13352849, 0.1       ],\n",
              "        [0.17624334, 0.14241965]]),\n",
              " 'b1': array([[0.00172105],\n",
              "        [0.        ]]),\n",
              " 'W2': array([[0.16518616],\n",
              "        [0.15920498]]),\n",
              " 'b2': array([[0.03459349]])}"
            ]
          },
          "metadata": {},
          "execution_count": 69
        }
      ]
    },
    {
      "cell_type": "code",
      "source": [
        "X = df[['cgpa', 'profile_score']].values[3].reshape(2,1) # shape(No of feature, no. of training example)\n",
        "y = df[['lpa']].values[3][0]\n",
        "\n",
        "\n",
        "\n",
        "y_hat, A1  = L_layer_forward(X, parameters)"
      ],
      "metadata": {
        "colab": {
          "base_uri": "https://localhost:8080/"
        },
        "id": "nUvYM6UYB8Wu",
        "outputId": "f460c765-2fce-42c2-f32c-46cb737a4dec"
      },
      "execution_count": null,
      "outputs": [
        {
          "output_type": "stream",
          "name": "stdout",
          "text": [
            "A0: [[ 5]\n",
            " [12]]\n",
            "W1: [[0.13352849 0.1       ]\n",
            " [0.17624334 0.14241965]]\n",
            "b1: [[0.00172105]\n",
            " [0.        ]]\n",
            "----------------------------------------\n",
            "A1: [[2.7842836 ]\n",
            " [2.20903575]]\n",
            "****************************************\n",
            "A1: [[2.7842836 ]\n",
            " [2.20903575]]\n",
            "W2: [[0.16518616]\n",
            " [0.15920498]]\n",
            "b2: [[0.03459349]]\n",
            "----------------------------------------\n",
            "A2: [[0.8462081]]\n",
            "****************************************\n"
          ]
        }
      ]
    },
    {
      "cell_type": "code",
      "source": [
        "update_parameters(parameters, y, y_hat,A1, X)"
      ],
      "metadata": {
        "id": "WddMaFL7CBX2"
      },
      "execution_count": null,
      "outputs": []
    },
    {
      "cell_type": "code",
      "source": [
        "parameters"
      ],
      "metadata": {
        "colab": {
          "base_uri": "https://localhost:8080/"
        },
        "id": "pOCvKNX3CC4p",
        "outputId": "0070311b-9547-4c0b-f110-8df9fd37a642"
      },
      "execution_count": null,
      "outputs": [
        {
          "output_type": "execute_result",
          "data": {
            "text/plain": [
              "{'W1': array([[0.14580247, 0.1       ],\n",
              "        [0.21717113, 0.1699482 ]]),\n",
              " 'b1': array([[0.00229405],\n",
              "        [0.        ]]),\n",
              " 'W2': array([[0.19945396],\n",
              "        [0.18639287]]),\n",
              " 'b2': array([[0.04690107]])}"
            ]
          },
          "metadata": {},
          "execution_count": 72
        }
      ]
    },
    {
      "cell_type": "code",
      "source": [
        "# epoch implementation\n",
        "\n",
        "parameters = initialize_parameters([2,2,1])\n",
        "epoch = 75\n",
        "\n",
        "for i in range(epoch):\n",
        "\n",
        "  Loss = []\n",
        "\n",
        "  for j in range(df.shape[0]):\n",
        "\n",
        "    X = df[['cgpa', 'profile_score']].values[j].reshape(2,1) # shape(no of feature, no of training example)\n",
        "    y = df[['lpa']].values[j][0]\n",
        "\n",
        "    # parmeter initilization\n",
        "\n",
        "    y_hat, A1 = L_layer_forward(X, parameters)\n",
        "    y_hat = y_hat[0][0]\n",
        "\n",
        "    update_parameters(parameters,y,y_hat,A1,X)\n",
        "\n",
        "    Loss.append((y - y_hat)**2)\n",
        "\n",
        "  print('Epoch -',i+1 ,'Loss -', np.array(Loss).mean())\n",
        "\n",
        "parameters\n",
        "\n",
        "\n",
        "\n",
        "\n"
      ],
      "metadata": {
        "colab": {
          "base_uri": "https://localhost:8080/"
        },
        "id": "jfvWaMMCCD5u",
        "outputId": "d7db7ad6-d667-4e8f-f917-3e244dd94e6d"
      },
      "execution_count": null,
      "outputs": [
        {
          "output_type": "stream",
          "name": "stdout",
          "text": [
            "Epoch - 1 Loss - 26.141253114181346\n",
            "Epoch - 2 Loss - 18.61575866741753\n",
            "Epoch - 3 Loss - 8.60971220546312\n",
            "Epoch - 4 Loss - 2.2442137220249334\n",
            "Epoch - 5 Loss - 0.6973601877999933\n",
            "Epoch - 6 Loss - 0.5932555110032856\n",
            "Epoch - 7 Loss - 0.6148696810405734\n",
            "Epoch - 8 Loss - 0.6207092189784047\n",
            "Epoch - 9 Loss - 0.6172348711758919\n",
            "Epoch - 10 Loss - 0.6108562609598986\n",
            "Epoch - 11 Loss - 0.6037149198926558\n",
            "Epoch - 12 Loss - 0.5964270752847994\n",
            "Epoch - 13 Loss - 0.5891628596923075\n",
            "Epoch - 14 Loss - 0.5819678991017694\n",
            "Epoch - 15 Loss - 0.574853511442414\n",
            "Epoch - 16 Loss - 0.5678216156767456\n",
            "Epoch - 17 Loss - 0.5608715835765806\n",
            "Epoch - 18 Loss - 0.5540021224184082\n",
            "Epoch - 19 Loss - 0.5472117916337849\n",
            "Epoch - 20 Loss - 0.5404991439054861\n",
            "Epoch - 21 Loss - 0.5338627630048947\n",
            "Epoch - 22 Loss - 0.5273012732557321\n",
            "Epoch - 23 Loss - 0.5208133412267812\n",
            "Epoch - 24 Loss - 0.5143976753228614\n",
            "Epoch - 25 Loss - 0.50805302483304\n",
            "Epoch - 26 Loss - 0.5017781788632174\n",
            "Epoch - 27 Loss - 0.4955719652686263\n",
            "Epoch - 28 Loss - 0.4894332496159205\n",
            "Epoch - 29 Loss - 0.4833609341810097\n",
            "Epoch - 30 Loss - 0.477353956982451\n",
            "Epoch - 31 Loss - 0.47141129084850136\n",
            "Epoch - 32 Loss - 0.46553194251563235\n",
            "Epoch - 33 Loss - 0.4597149517562473\n",
            "Epoch - 34 Loss - 0.4539593905335003\n",
            "Epoch - 35 Loss - 0.44826436218116655\n",
            "Epoch - 36 Loss - 0.44262900060665045\n",
            "Epoch - 37 Loss - 0.43705246951533816\n",
            "Epoch - 38 Loss - 0.4315339616545894\n",
            "Epoch - 39 Loss - 0.4260726980757561\n",
            "Epoch - 40 Loss - 0.4206679274127365\n",
            "Epoch - 41 Loss - 0.4153189251756466\n",
            "Epoch - 42 Loss - 0.41002499305828327\n",
            "Epoch - 43 Loss - 0.4047854582581216\n",
            "Epoch - 44 Loss - 0.39959967280772274\n",
            "Epoch - 45 Loss - 0.39446701291643854\n",
            "Epoch - 46 Loss - 0.38938687832142627\n",
            "Epoch - 47 Loss - 0.3843586916470338\n",
            "Epoch - 48 Loss - 0.379381897771705\n",
            "Epoch - 49 Loss - 0.3744559632016155\n",
            "Epoch - 50 Loss - 0.3695803754503093\n",
            "Epoch - 51 Loss - 0.364754642423696\n",
            "Epoch - 52 Loss - 0.35997829180980206\n",
            "Epoch - 53 Loss - 0.35525087047275583\n",
            "Epoch - 54 Loss - 0.3505719438505429\n",
            "Epoch - 55 Loss - 0.3459410953561068\n",
            "Epoch - 56 Loss - 0.34135792578146457\n",
            "Epoch - 57 Loss - 0.33682205270452537\n",
            "Epoch - 58 Loss - 0.33233310989837966\n",
            "Epoch - 59 Loss - 0.3278907467428702\n",
            "Epoch - 60 Loss - 0.3234946276383062\n",
            "Epoch - 61 Loss - 0.31914443142124027\n",
            "Epoch - 62 Loss - 0.3148398507822585\n",
            "Epoch - 63 Loss - 0.31058059168580743\n",
            "Epoch - 64 Loss - 0.30636637279209533\n",
            "Epoch - 65 Loss - 0.30219692488118394\n",
            "Epoch - 66 Loss - 0.298071990279381\n",
            "Epoch - 67 Loss - 0.29399132228814273\n",
            "Epoch - 68 Loss - 0.289954684615672\n",
            "Epoch - 69 Loss - 0.2859618508114848\n",
            "Epoch - 70 Loss - 0.28201260370422077\n",
            "Epoch - 71 Loss - 0.2781067348430083\n",
            "Epoch - 72 Loss - 0.2742440439427378\n",
            "Epoch - 73 Loss - 0.2704243383336153\n",
            "Epoch - 74 Loss - 0.26664743241538563\n",
            "Epoch - 75 Loss - 0.262913147116659\n"
          ]
        },
        {
          "output_type": "execute_result",
          "data": {
            "text/plain": [
              "{'W1': array([[0.02459582, 0.1       ],\n",
              "        [0.53120994, 0.49655549]]),\n",
              " 'b1': array([[0.00032262],\n",
              "        [0.        ]]),\n",
              " 'W2': array([[0.57388359],\n",
              "        [0.45742862]]),\n",
              " 'b2': array([[0.09422261]])}"
            ]
          },
          "metadata": {},
          "execution_count": 78
        }
      ]
    },
    {
      "cell_type": "markdown",
      "source": [
        "### Keras Code"
      ],
      "metadata": {
        "id": "aGbYHvrlFNbU"
      }
    },
    {
      "cell_type": "code",
      "source": [
        "import tensorflow\n",
        "from tensorflow import keras\n",
        "from keras import Sequential\n",
        "from keras.layers import Dense"
      ],
      "metadata": {
        "id": "V2BEn1AaDHwj"
      },
      "execution_count": null,
      "outputs": []
    },
    {
      "cell_type": "code",
      "source": [
        "model = Sequential()\n",
        "\n",
        "model.add(Dense(2, activation=\"linear\",input_dim=2))\n",
        "model.add(Dense(1, activation='linear'))"
      ],
      "metadata": {
        "id": "zbE2D0HXFtEq"
      },
      "execution_count": null,
      "outputs": []
    },
    {
      "cell_type": "code",
      "source": [
        "model.summary()"
      ],
      "metadata": {
        "colab": {
          "base_uri": "https://localhost:8080/"
        },
        "id": "NNWXOCjpF_wX",
        "outputId": "612c24e0-d94d-421f-a999-495a9c08a245"
      },
      "execution_count": null,
      "outputs": [
        {
          "output_type": "stream",
          "name": "stdout",
          "text": [
            "Model: \"sequential\"\n",
            "_________________________________________________________________\n",
            " Layer (type)                Output Shape              Param #   \n",
            "=================================================================\n",
            " dense (Dense)               (None, 2)                 6         \n",
            "                                                                 \n",
            " dense_1 (Dense)             (None, 1)                 3         \n",
            "                                                                 \n",
            "=================================================================\n",
            "Total params: 9 (36.00 Byte)\n",
            "Trainable params: 9 (36.00 Byte)\n",
            "Non-trainable params: 0 (0.00 Byte)\n",
            "_________________________________________________________________\n"
          ]
        }
      ]
    },
    {
      "cell_type": "code",
      "source": [
        "model.get_weights()"
      ],
      "metadata": {
        "colab": {
          "base_uri": "https://localhost:8080/"
        },
        "id": "Cqd-DXT-GBEL",
        "outputId": "13b8d514-a812-492d-f062-bb0fca59b6ef"
      },
      "execution_count": null,
      "outputs": [
        {
          "output_type": "execute_result",
          "data": {
            "text/plain": [
              "[array([[-0.99751747, -0.75007415],\n",
              "        [-0.9610292 ,  0.27907562]], dtype=float32),\n",
              " array([0., 0.], dtype=float32),\n",
              " array([[-0.10341048],\n",
              "        [-0.46564007]], dtype=float32),\n",
              " array([0.], dtype=float32)]"
            ]
          },
          "metadata": {},
          "execution_count": 82
        }
      ]
    },
    {
      "cell_type": "code",
      "source": [
        "new_weights = [np.array([[0.1, 0.1],\n",
        "        [0.1 ,  0.1]], dtype=np.float32),\n",
        " np.array([0., 0.], dtype=np.float32),\n",
        " np.array([[0.1],\n",
        "        [0.1]], dtype=np.float32),\n",
        " np.array([0.], dtype=np.float32)]"
      ],
      "metadata": {
        "id": "wjYkjnVmGNIk"
      },
      "execution_count": null,
      "outputs": []
    },
    {
      "cell_type": "code",
      "source": [
        "model.set_weights(new_weights)"
      ],
      "metadata": {
        "id": "vr29-m4oGvG4"
      },
      "execution_count": null,
      "outputs": []
    },
    {
      "cell_type": "code",
      "source": [
        "model.get_weights()"
      ],
      "metadata": {
        "colab": {
          "base_uri": "https://localhost:8080/"
        },
        "id": "Y92FCROhG21M",
        "outputId": "30f18392-d7fb-46c0-8fa4-62cbdd81a805"
      },
      "execution_count": null,
      "outputs": [
        {
          "output_type": "execute_result",
          "data": {
            "text/plain": [
              "[array([[0.1, 0.1],\n",
              "        [0.1, 0.1]], dtype=float32),\n",
              " array([0., 0.], dtype=float32),\n",
              " array([[0.1],\n",
              "        [0.1]], dtype=float32),\n",
              " array([0.], dtype=float32)]"
            ]
          },
          "metadata": {},
          "execution_count": 85
        }
      ]
    },
    {
      "cell_type": "code",
      "source": [
        "optimizer = keras.optimizers.Adam(learning_rate=0.001)\n",
        "model.compile(loss='mean_squared_error', optimizer=optimizer)"
      ],
      "metadata": {
        "id": "JzDKbyaGG53w"
      },
      "execution_count": null,
      "outputs": []
    },
    {
      "cell_type": "code",
      "source": [
        "model.fit(df.iloc[:,0:-1].values, df['lpa'].values, epochs=75, verbose=1, batch_size=1)"
      ],
      "metadata": {
        "colab": {
          "base_uri": "https://localhost:8080/"
        },
        "id": "NPR-3gQTHWpk",
        "outputId": "957ab59a-2ca8-4ae4-eb2e-9894cab1f08f"
      },
      "execution_count": null,
      "outputs": [
        {
          "output_type": "stream",
          "name": "stdout",
          "text": [
            "Epoch 1/75\n",
            "4/4 [==============================] - 1s 5ms/step - loss: 27.8783\n",
            "Epoch 2/75\n",
            "4/4 [==============================] - 0s 3ms/step - loss: 27.5771\n",
            "Epoch 3/75\n",
            "4/4 [==============================] - 0s 5ms/step - loss: 27.2360\n",
            "Epoch 4/75\n",
            "4/4 [==============================] - 0s 4ms/step - loss: 26.8969\n",
            "Epoch 5/75\n",
            "4/4 [==============================] - 0s 4ms/step - loss: 26.5384\n",
            "Epoch 6/75\n",
            "4/4 [==============================] - 0s 4ms/step - loss: 26.1990\n",
            "Epoch 7/75\n",
            "4/4 [==============================] - 0s 4ms/step - loss: 25.8397\n",
            "Epoch 8/75\n",
            "4/4 [==============================] - 0s 4ms/step - loss: 25.4178\n",
            "Epoch 9/75\n",
            "4/4 [==============================] - 0s 4ms/step - loss: 25.0412\n",
            "Epoch 10/75\n",
            "4/4 [==============================] - 0s 4ms/step - loss: 24.6564\n",
            "Epoch 11/75\n",
            "4/4 [==============================] - 0s 6ms/step - loss: 24.2278\n",
            "Epoch 12/75\n",
            "4/4 [==============================] - 0s 4ms/step - loss: 23.8188\n",
            "Epoch 13/75\n",
            "4/4 [==============================] - 0s 5ms/step - loss: 23.3765\n",
            "Epoch 14/75\n",
            "4/4 [==============================] - 0s 4ms/step - loss: 22.9063\n",
            "Epoch 15/75\n",
            "4/4 [==============================] - 0s 4ms/step - loss: 22.4530\n",
            "Epoch 16/75\n",
            "4/4 [==============================] - 0s 4ms/step - loss: 22.0088\n",
            "Epoch 17/75\n",
            "4/4 [==============================] - 0s 4ms/step - loss: 21.5451\n",
            "Epoch 18/75\n",
            "4/4 [==============================] - 0s 4ms/step - loss: 21.0463\n",
            "Epoch 19/75\n",
            "4/4 [==============================] - 0s 4ms/step - loss: 20.5358\n",
            "Epoch 20/75\n",
            "4/4 [==============================] - 0s 4ms/step - loss: 20.0576\n",
            "Epoch 21/75\n",
            "4/4 [==============================] - 0s 4ms/step - loss: 19.5792\n",
            "Epoch 22/75\n",
            "4/4 [==============================] - 0s 4ms/step - loss: 19.0267\n",
            "Epoch 23/75\n",
            "4/4 [==============================] - 0s 6ms/step - loss: 18.5504\n",
            "Epoch 24/75\n",
            "4/4 [==============================] - 0s 4ms/step - loss: 18.0007\n",
            "Epoch 25/75\n",
            "4/4 [==============================] - 0s 4ms/step - loss: 17.5326\n",
            "Epoch 26/75\n",
            "4/4 [==============================] - 0s 4ms/step - loss: 16.9700\n",
            "Epoch 27/75\n",
            "4/4 [==============================] - 0s 4ms/step - loss: 16.4329\n",
            "Epoch 28/75\n",
            "4/4 [==============================] - 0s 3ms/step - loss: 15.9131\n",
            "Epoch 29/75\n",
            "4/4 [==============================] - 0s 3ms/step - loss: 15.3866\n",
            "Epoch 30/75\n",
            "4/4 [==============================] - 0s 3ms/step - loss: 14.9081\n",
            "Epoch 31/75\n",
            "4/4 [==============================] - 0s 3ms/step - loss: 14.3571\n",
            "Epoch 32/75\n",
            "4/4 [==============================] - 0s 3ms/step - loss: 13.8184\n",
            "Epoch 33/75\n",
            "4/4 [==============================] - 0s 3ms/step - loss: 13.2767\n",
            "Epoch 34/75\n",
            "4/4 [==============================] - 0s 3ms/step - loss: 12.8364\n",
            "Epoch 35/75\n",
            "4/4 [==============================] - 0s 3ms/step - loss: 12.2675\n",
            "Epoch 36/75\n",
            "4/4 [==============================] - 0s 3ms/step - loss: 11.7528\n",
            "Epoch 37/75\n",
            "4/4 [==============================] - 0s 3ms/step - loss: 11.2945\n",
            "Epoch 38/75\n",
            "4/4 [==============================] - 0s 3ms/step - loss: 10.8040\n",
            "Epoch 39/75\n",
            "4/4 [==============================] - 0s 3ms/step - loss: 10.3051\n",
            "Epoch 40/75\n",
            "4/4 [==============================] - 0s 3ms/step - loss: 9.8651\n",
            "Epoch 41/75\n",
            "4/4 [==============================] - 0s 3ms/step - loss: 9.3921\n",
            "Epoch 42/75\n",
            "4/4 [==============================] - 0s 3ms/step - loss: 9.0128\n",
            "Epoch 43/75\n",
            "4/4 [==============================] - 0s 3ms/step - loss: 8.5145\n",
            "Epoch 44/75\n",
            "4/4 [==============================] - 0s 3ms/step - loss: 8.1372\n",
            "Epoch 45/75\n",
            "4/4 [==============================] - 0s 3ms/step - loss: 7.6701\n",
            "Epoch 46/75\n",
            "4/4 [==============================] - 0s 4ms/step - loss: 7.2700\n",
            "Epoch 47/75\n",
            "4/4 [==============================] - 0s 3ms/step - loss: 6.8773\n",
            "Epoch 48/75\n",
            "4/4 [==============================] - 0s 3ms/step - loss: 6.5283\n",
            "Epoch 49/75\n",
            "4/4 [==============================] - 0s 3ms/step - loss: 6.1721\n",
            "Epoch 50/75\n",
            "4/4 [==============================] - 0s 4ms/step - loss: 5.8375\n",
            "Epoch 51/75\n",
            "4/4 [==============================] - 0s 5ms/step - loss: 5.4866\n",
            "Epoch 52/75\n",
            "4/4 [==============================] - 0s 3ms/step - loss: 5.2223\n",
            "Epoch 53/75\n",
            "4/4 [==============================] - 0s 3ms/step - loss: 4.8756\n",
            "Epoch 54/75\n",
            "4/4 [==============================] - 0s 3ms/step - loss: 4.6242\n",
            "Epoch 55/75\n",
            "4/4 [==============================] - 0s 4ms/step - loss: 4.3582\n",
            "Epoch 56/75\n",
            "4/4 [==============================] - 0s 3ms/step - loss: 4.0741\n",
            "Epoch 57/75\n",
            "4/4 [==============================] - 0s 3ms/step - loss: 3.8140\n",
            "Epoch 58/75\n",
            "4/4 [==============================] - 0s 3ms/step - loss: 3.6078\n",
            "Epoch 59/75\n",
            "4/4 [==============================] - 0s 3ms/step - loss: 3.3773\n",
            "Epoch 60/75\n",
            "4/4 [==============================] - 0s 3ms/step - loss: 3.2212\n",
            "Epoch 61/75\n",
            "4/4 [==============================] - 0s 3ms/step - loss: 3.0074\n",
            "Epoch 62/75\n",
            "4/4 [==============================] - 0s 3ms/step - loss: 2.8819\n",
            "Epoch 63/75\n",
            "4/4 [==============================] - 0s 4ms/step - loss: 2.7047\n",
            "Epoch 64/75\n",
            "4/4 [==============================] - 0s 4ms/step - loss: 2.4916\n",
            "Epoch 65/75\n",
            "4/4 [==============================] - 0s 3ms/step - loss: 2.3638\n",
            "Epoch 66/75\n",
            "4/4 [==============================] - 0s 3ms/step - loss: 2.2737\n",
            "Epoch 67/75\n",
            "4/4 [==============================] - 0s 3ms/step - loss: 2.1280\n",
            "Epoch 68/75\n",
            "4/4 [==============================] - 0s 3ms/step - loss: 2.0129\n",
            "Epoch 69/75\n",
            "4/4 [==============================] - 0s 3ms/step - loss: 1.9323\n",
            "Epoch 70/75\n",
            "4/4 [==============================] - 0s 3ms/step - loss: 1.8530\n",
            "Epoch 71/75\n",
            "4/4 [==============================] - 0s 3ms/step - loss: 1.7455\n",
            "Epoch 72/75\n",
            "4/4 [==============================] - 0s 3ms/step - loss: 1.6721\n",
            "Epoch 73/75\n",
            "4/4 [==============================] - 0s 3ms/step - loss: 1.6217\n",
            "Epoch 74/75\n",
            "4/4 [==============================] - 0s 3ms/step - loss: 1.5318\n",
            "Epoch 75/75\n",
            "4/4 [==============================] - 0s 3ms/step - loss: 1.4769\n"
          ]
        },
        {
          "output_type": "execute_result",
          "data": {
            "text/plain": [
              "<keras.src.callbacks.History at 0x78f01c53a740>"
            ]
          },
          "metadata": {},
          "execution_count": 87
        }
      ]
    },
    {
      "cell_type": "code",
      "source": [
        "model.get_weights()"
      ],
      "metadata": {
        "colab": {
          "base_uri": "https://localhost:8080/"
        },
        "id": "vK9HHhvKHwG8",
        "outputId": "1d74ea2a-f6ea-4775-ce8b-887bfe5be59a"
      },
      "execution_count": null,
      "outputs": [
        {
          "output_type": "execute_result",
          "data": {
            "text/plain": [
              "[array([[0.37333888, 0.37333888],\n",
              "        [0.36551514, 0.36551514]], dtype=float32),\n",
              " array([0.27213064, 0.27213064], dtype=float32),\n",
              " array([[0.37274238],\n",
              "        [0.37274238]], dtype=float32),\n",
              " array([0.2047484], dtype=float32)]"
            ]
          },
          "metadata": {},
          "execution_count": 88
        }
      ]
    },
    {
      "cell_type": "code",
      "source": [],
      "metadata": {
        "id": "x7FwkTG6H0eq"
      },
      "execution_count": null,
      "outputs": []
    }
  ]
}